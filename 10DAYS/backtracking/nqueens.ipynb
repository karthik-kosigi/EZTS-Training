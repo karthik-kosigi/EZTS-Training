{
 "cells": [
  {
   "cell_type": "code",
   "execution_count": 5,
   "metadata": {},
   "outputs": [
    {
     "name": "stdout",
     "output_type": "stream",
     "text": [
      "['X', 'Q', 'X', 'X']\n",
      "['X', 'X', 'X', 'Q']\n",
      "['Q', 'X', 'X', 'X']\n",
      "['X', 'X', 'Q', 'X']\n",
      "['X', 'X', 'Q', 'X']\n",
      "['Q', 'X', 'X', 'X']\n",
      "['X', 'X', 'X', 'Q']\n",
      "['X', 'Q', 'X', 'X']\n",
      "Total solutions = 2\n"
     ]
    }
   ],
   "source": [
    "def nqueens(board,row):\n",
    "    global c\n",
    "    if row==len(board):\n",
    "        c+=1\n",
    "        for i in range(len(board)):\n",
    "            print(board[i])\n",
    "        \n",
    "        return\n",
    "    for j in range(len(board)):\n",
    "        if issafe(board,row,j):\n",
    "            board[row][j]=\"Q\"\n",
    "            nqueens(board,row+1)\n",
    "            board[row][j]=\"X\"\n",
    "    \n",
    "def issafe(board,row,col):\n",
    "    #upleft\n",
    "    for i,j in zip(range(row-1,-1,-1),range(col-1,-1,-1)):\n",
    "        if board[i][j]==\"Q\":\n",
    "            return False\n",
    "        \n",
    "    #upright\n",
    "    for i,j in zip(range(row-1,-1,-1),range(col+1,len(board))):\n",
    "        if board[i][j]==\"Q\":\n",
    "            return False\n",
    "    #vertical up   \n",
    "    for i in range(row-1,-1,-1):\n",
    "        if board[i][col]==\"Q\":\n",
    "            return False\n",
    "    return True\n",
    "if __name__==\"__main__\":\n",
    "    n=int(input())\n",
    "    if n>=4:\n",
    "        c=0\n",
    "        board = [['X' for _ in range(n)] for _ in range(n) ]\n",
    "        nqueens(board,0)\n",
    "        print(f\"Total solutions = {c}\")\n",
    "    else:\n",
    "        print(\"No solution\")"
   ]
  }
 ],
 "metadata": {
  "kernelspec": {
   "display_name": "Python 3",
   "language": "python",
   "name": "python3"
  },
  "language_info": {
   "codemirror_mode": {
    "name": "ipython",
    "version": 3
   },
   "file_extension": ".py",
   "mimetype": "text/x-python",
   "name": "python",
   "nbconvert_exporter": "python",
   "pygments_lexer": "ipython3",
   "version": "3.12.0"
  }
 },
 "nbformat": 4,
 "nbformat_minor": 2
}
