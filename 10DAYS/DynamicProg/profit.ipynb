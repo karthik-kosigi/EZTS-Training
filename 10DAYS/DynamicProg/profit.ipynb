{
 "cells": [
  {
   "cell_type": "code",
   "execution_count": 2,
   "metadata": {},
   "outputs": [
    {
     "name": "stdout",
     "output_type": "stream",
     "text": [
      "The maximum profit is: 51\n"
     ]
    }
   ],
   "source": [
    "p=[5,10,15,7,8,9,4]\n",
    "w=[1,3,5,4,1,3,2]\n",
    "capacity = 15\n",
    "n = len(p)\n",
    "\n",
    "def knapsack_recursive(p, w, capacity, n):\n",
    "    # Base case: no items left or capacity is 0\n",
    "    if n == 0 or capacity == 0:\n",
    "        return 0\n",
    "\n",
    "    # If weight of the nth item is more than the remaining capacity,\n",
    "    # it cannot be included in the optimal solution\n",
    "    if w[n-1] > capacity:\n",
    "        return knapsack_recursive(p, w, capacity, n-1)\n",
    "    \n",
    "    # Return the maximum of two cases:\n",
    "    # 1. nth item included\n",
    "    # 2. nth item not included\n",
    "    else:\n",
    "        include_item = p[n-1] + knapsack_recursive(p, w, capacity - w[n-1], n-1)\n",
    "        exclude_item = knapsack_recursive(p, w, capacity, n-1)\n",
    "        return max(include_item, exclude_item)\n",
    "max_profit = knapsack_recursive(p, w, capacity, n)\n",
    "print(\"The maximum profit is:\", max_profit)"
   ]
  },
  {
   "cell_type": "markdown",
   "metadata": {},
   "source": [
    "# using dp array\n"
   ]
  },
  {
   "cell_type": "code",
   "execution_count": 6,
   "metadata": {},
   "outputs": [
    {
     "name": "stdout",
     "output_type": "stream",
     "text": [
      "[[0, 0, 0, 0, 0, 0, 0, 0, 0, 0, 0, 0, 0, 0, 0, 0], [0, 5, 5, 5, 5, 5, 5, 5, 5, 5, 5, 5, 5, 5, 5, 5], [0, 5, 5, 10, 15, 15, 15, 15, 15, 15, 15, 15, 15, 15, 15, 15], [0, 5, 5, 10, 15, 15, 20, 20, 25, 30, 30, 30, 30, 30, 30, 30], [0, 5, 5, 10, 15, 15, 20, 20, 25, 30, 30, 30, 32, 37, 37, 37], [0, 8, 13, 13, 18, 23, 23, 28, 28, 33, 38, 38, 38, 40, 45, 45], [0, 8, 13, 13, 18, 23, 23, 28, 32, 33, 38, 38, 42, 47, 47, 47], [0, 8, 13, 13, 18, 23, 23, 28, 32, 33, 38, 38, 42, 47, 47, 51]]\n",
      "The maximum profit is: 51\n"
     ]
    }
   ],
   "source": [
    "def knapsack_dp(profits, weights, capacity):\n",
    "    n = len(profits)\n",
    "    # Initialize DP table with -1\n",
    "    dp = [[-1 for _ in range(capacity + 1)] for _ in range(n + 1)]\n",
    "    \n",
    "    # Initialize base cases\n",
    "    for i in range(n + 1):\n",
    "        dp[i][0] = 0  # When capacity is 0, profit is 0\n",
    "    for c in range(capacity + 1):\n",
    "        dp[0][c] = 0  # When there are no items, profit is 0\n",
    "\n",
    "    # Fill the DP table\n",
    "    for i in range(1, n + 1):\n",
    "        for c in range(1, capacity + 1):\n",
    "            if weights[i - 1] <= c:\n",
    "                dp[i][c] = max(profits[i - 1] + dp[i - 1][c - weights[i - 1]], dp[i - 1][c])\n",
    "            else:\n",
    "                dp[i][c] = dp[i - 1][c]\n",
    "\n",
    "    # The maximum profit is in dp[n][capacity]\n",
    "    print(dp)\n",
    "    return dp[n][capacity]\n",
    "\n",
    "# Given profits and weights\n",
    "profits = [5, 10, 15, 7, 8, 9, 4]\n",
    "weights = [1, 3, 5, 4, 1, 3, 2]\n",
    "\n",
    "# Let's assume the maximum capacity of the knapsack is 10\n",
    "capacity = 15\n",
    "\n",
    "# Find the maximum profit\n",
    "max_profit = knapsack_dp(profits, weights, capacity)\n",
    "print(\"The maximum profit is:\", max_profit)"
   ]
  },
  {
   "cell_type": "code",
   "execution_count": 7,
   "metadata": {},
   "outputs": [
    {
     "name": "stdout",
     "output_type": "stream",
     "text": [
      "[[0, 0, 0, 0, 0, 0, 0, 0, 0, 0, 0, 0, 0, 0, 0, 0], [0, -1, -1, -1, -1, -1, -1, -1, -1, -1, -1, -1, -1, -1, -1, -1], [0, -1, -1, -1, -1, -1, -1, -1, -1, -1, -1, -1, -1, -1, -1, -1], [0, -1, -1, -1, -1, -1, -1, -1, -1, -1, -1, -1, -1, -1, -1, -1], [0, -1, -1, -1, -1, -1, -1, -1, -1, -1, -1, -1, -1, -1, -1, -1], [0, -1, -1, -1, -1, -1, -1, -1, -1, -1, -1, -1, -1, -1, -1, -1], [0, -1, -1, -1, -1, -1, -1, -1, -1, -1, -1, -1, -1, -1, -1, -1], [0, -1, -1, -1, -1, -1, -1, -1, -1, -1, -1, -1, -1, -1, -1, -1]]\n"
     ]
    }
   ],
   "source": [
    "profits = [5, 10, 15, 7, 8, 9, 4]\n",
    "weights = [1, 3, 5, 4, 1, 3, 2]\n",
    "capacity = 15\n",
    "n=len(profits)\n",
    "dp = [[-1 for _ in range(capacity + 1)] for _ in range(n + 1)]\n",
    "for i in range(n + 1):\n",
    "    dp[i][0] = 0\n",
    "for c in range(capacity + 1):\n",
    "    dp[0][c] = 0\n",
    "print(dp)\n"
   ]
  }
 ],
 "metadata": {
  "kernelspec": {
   "display_name": "Python 3",
   "language": "python",
   "name": "python3"
  },
  "language_info": {
   "codemirror_mode": {
    "name": "ipython",
    "version": 3
   },
   "file_extension": ".py",
   "mimetype": "text/x-python",
   "name": "python",
   "nbconvert_exporter": "python",
   "pygments_lexer": "ipython3",
   "version": "3.12.0"
  }
 },
 "nbformat": 4,
 "nbformat_minor": 2
}
