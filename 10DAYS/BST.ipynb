{
 "cells": [
  {
   "cell_type": "markdown",
   "metadata": {},
   "source": [
    "# BST\n"
   ]
  },
  {
   "cell_type": "code",
   "execution_count": 15,
   "metadata": {},
   "outputs": [
    {
     "name": "stdout",
     "output_type": "stream",
     "text": [
      "4 3 2 1 6 5 7 8 9 \n",
      "1 2 3 4 5 6 7 8 9 "
     ]
    }
   ],
   "source": [
    "class Node:\n",
    "    def __init__(self,data):\n",
    "        self.data=data\n",
    "        self.left=None\n",
    "        self.right=None\n",
    "\n",
    "def insert(val,root):\n",
    "    if root==None:\n",
    "        return Node(val)\n",
    "    if val > root.data:\n",
    "        root.right=insert(val,root.right)\n",
    "    elif val < root.data:\n",
    "        root.left=insert(val,root.left)\n",
    "    return root\n",
    "def preorder(root):\n",
    "    if root==None:\n",
    "        return\n",
    "    print(root.data,end=\" \")\n",
    "    preorder(root.left)\n",
    "    preorder(root.right)\n",
    "def inorder(root):\n",
    "    if root==None:\n",
    "        return\n",
    "    inorder(root.left)\n",
    "    print(root.data,end=' ')\n",
    "    inorder(root.right)\n",
    "\n",
    "\n",
    "root=Node(4)\n",
    "\n",
    "l=[4,6,7,3,8,2,5,9,1]\n",
    "for i in l[1:]:\n",
    "   root= insert(i,root)  \n",
    "preorder(root)  \n",
    "print()\n",
    "inorder(root)"
   ]
  }
 ],
 "metadata": {
  "kernelspec": {
   "display_name": "Python 3",
   "language": "python",
   "name": "python3"
  },
  "language_info": {
   "codemirror_mode": {
    "name": "ipython",
    "version": 3
   },
   "file_extension": ".py",
   "mimetype": "text/x-python",
   "name": "python",
   "nbconvert_exporter": "python",
   "pygments_lexer": "ipython3",
   "version": "3.12.0"
  }
 },
 "nbformat": 4,
 "nbformat_minor": 2
}
