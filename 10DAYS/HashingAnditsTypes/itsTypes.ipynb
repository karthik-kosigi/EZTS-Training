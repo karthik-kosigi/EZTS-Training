{
 "cells": [
  {
   "cell_type": "markdown",
   "metadata": {},
   "source": [
    "# Hashing\n",
    "### solving collision "
   ]
  },
  {
   "cell_type": "markdown",
   "metadata": {},
   "source": [
    "### CHAINING"
   ]
  },
  {
   "cell_type": "code",
   "execution_count": 19,
   "metadata": {},
   "outputs": [
    {
     "name": "stdout",
     "output_type": "stream",
     "text": [
      "found\n",
      "Not\n"
     ]
    }
   ],
   "source": [
    "class Node:\n",
    "    def __init__(self,key,val) -> None:\n",
    "        self.key=key\n",
    "        self.val=val\n",
    "        self.next=None\n",
    "class HashTable:\n",
    "    def __init__(self,size) -> None:\n",
    "        self.size=size\n",
    "        self.table =[None]*size\n",
    "    def insert(self,key,val):\n",
    "        index=key%10\n",
    "        if self.table[index]==None:\n",
    "            self.table[index]=Node(key,val)\n",
    "        else:\n",
    "            curr=self.table[index]\n",
    "            while curr.next:\n",
    "                curr=curr.next\n",
    "            curr.next=Node(key,val)\n",
    "    def display(self):\n",
    "        for i in range(self.size):\n",
    "            curr=self.table[i]\n",
    "            while curr:\n",
    "                print(curr.val,end=\" \")\n",
    "                curr=curr.next\n",
    "            print()\n",
    "    def search(self,tar):\n",
    "        key=tar%10\n",
    "        curr=self.table[key]\n",
    "        flag=False\n",
    "        while curr:\n",
    "            if curr.val==tar:\n",
    "                # print(\"Found\")\n",
    "                flag=True\n",
    "                return flag\n",
    "            curr=curr.next\n",
    "\n",
    "li=[22,30,25,17,53,71,31,35]\n",
    "hash=HashTable(len(li))\n",
    "for i in li:\n",
    "    hash.insert(i,i)\n",
    "# hash.display()\n",
    "if hash.search(31):\n",
    "    print(\"found\")\n",
    "if hash.search(23):\n",
    "    print(\"found\")\n",
    "else:\n",
    "    print(\"Not\")\n",
    "\n",
    "\n"
   ]
  },
  {
   "cell_type": "markdown",
   "metadata": {},
   "source": [
    "### Linear probing"
   ]
  },
  {
   "cell_type": "code",
   "execution_count": 1,
   "metadata": {},
   "outputs": [
    {
     "name": "stdout",
     "output_type": "stream",
     "text": [
      "[10, 100, 22, 50, 92, 79, 56, 47, False, 99]\n"
     ]
    }
   ],
   "source": [
    "# length of array is 10\n",
    "\n",
    "k =[22,10,47,56,100,50,92,99,79]\n",
    "hashlist = [False for _ in range(10)]\n",
    "for e in k:\n",
    "    for j in range(len(k)):\n",
    "        x=((e%10)+j)%10\n",
    "        if hashlist[x]==False:\n",
    "            hashlist[x]=e\n",
    "            break\n",
    "print(hashlist)"
   ]
  },
  {
   "cell_type": "code",
   "execution_count": 2,
   "metadata": {},
   "outputs": [
    {
     "name": "stdout",
     "output_type": "stream",
     "text": [
      "[56, 99, 100, 59, 3, 47, 34, 21, 22, 50, 10, 92, 79, 9]\n"
     ]
    }
   ],
   "source": [
    "# length of array is greater that 10\n",
    "\n",
    "k =[22,10,47,56,100,50,92,99,79,34,21,59,9,3]\n",
    "hashlist = [False for _ in range(len(k))]\n",
    "n=len(k)\n",
    "for e in k:\n",
    "    for j in range(len(k)):\n",
    "        x=((e%n)+j)%n\n",
    "        if hashlist[x]==False:\n",
    "            hashlist[x]=e\n",
    "            break\n",
    "print(hashlist)"
   ]
  },
  {
   "cell_type": "markdown",
   "metadata": {},
   "source": [
    "### Quadratic probing"
   ]
  },
  {
   "cell_type": "code",
   "execution_count": 3,
   "metadata": {},
   "outputs": [
    {
     "name": "stdout",
     "output_type": "stream",
     "text": [
      "[56, 99, 100, 59, 9, 47, 34, 21, 22, 50, 10, 3, 92, 79]\n"
     ]
    }
   ],
   "source": [
    "k =[22,10,47,56,100,50,92,99,79,34,21,59,9,3]\n",
    "hashlist = [False for _ in range(len(k))]\n",
    "n=len(k)\n",
    "for e in k:\n",
    "    for j in range(len(k)):\n",
    "        x=((e%n)+j**2)%n\n",
    "        if hashlist[x]==False:\n",
    "            hashlist[x]=e\n",
    "            break\n",
    "print(hashlist)"
   ]
  },
  {
   "cell_type": "markdown",
   "metadata": {},
   "source": [
    "# Double Hashing"
   ]
  },
  {
   "cell_type": "code",
   "execution_count": 9,
   "metadata": {},
   "outputs": [
    {
     "name": "stdout",
     "output_type": "stream",
     "text": [
      "[81, 34, False, 56, 45, 104, 70, 37, 36, 20, 39]\n"
     ]
    }
   ],
   "source": [
    "# k =[22,10,47,56,100,50,92,99,79,34,21,59,9,3]\n",
    "k=[20,34,45,70,56,81,104,37,36,39]\n",
    "hashlist = [False for _ in range(11)]\n",
    "n=11\n",
    "for e in k:\n",
    "    for i in range(len(k)):\n",
    "        h1= e%n\n",
    "        h2= (8-e%8)\n",
    "        x=(h1+(i*h2))%n\n",
    "        if hashlist[x]==False:\n",
    "            hashlist[x]=e\n",
    "            break\n",
    "print(hashlist)"
   ]
  }
 ],
 "metadata": {
  "kernelspec": {
   "display_name": "Python 3",
   "language": "python",
   "name": "python3"
  },
  "language_info": {
   "codemirror_mode": {
    "name": "ipython",
    "version": 3
   },
   "file_extension": ".py",
   "mimetype": "text/x-python",
   "name": "python",
   "nbconvert_exporter": "python",
   "pygments_lexer": "ipython3",
   "version": "3.12.0"
  }
 },
 "nbformat": 4,
 "nbformat_minor": 2
}
