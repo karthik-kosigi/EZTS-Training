{
 "cells": [
  {
   "cell_type": "code",
   "execution_count": 31,
   "metadata": {},
   "outputs": [
    {
     "name": "stdout",
     "output_type": "stream",
     "text": [
      "[]\n",
      "['{']\n",
      "['{', '[']\n",
      "['{', '[']\n",
      "['{', '[']\n",
      "['{', '[']\n",
      "['{', '[']\n",
      "['{', '[']\n",
      "['{', '[']\n",
      "['{', '[']\n",
      "['{', '[']\n",
      "['{', '[', '(']\n",
      "['{', '[', '(']\n",
      "['{', '[', '(']\n",
      "['{', '[', '(']\n",
      "['{', '[']\n",
      "['{', '[', '}']\n",
      "['{', '[', '}', ']']\n",
      "5\n",
      "invalid\n"
     ]
    }
   ],
   "source": [
    "class Stack:\n",
    "    def __init__(self) -> None:\n",
    "        self.items=[]\n",
    "    def push(self,data):\n",
    "        self.items.append(data)\n",
    "    def pop(self):\n",
    "        return self.items.pop()\n",
    "    def size(self):\n",
    "        return len(self.items)\n",
    "    def display(self):\n",
    "        print(self.items)\n",
    "    def top(self):\n",
    "        if len(self.items)==0:\n",
    "            return 0\n",
    "        return self.items[-1]\n",
    "    \n",
    "st = Stack()\n",
    "exp = \"{[3+44{3/11(3+5)}]}\"\n",
    "for i in exp:\n",
    "    st.display()\n",
    "    if i in \"{[(\":\n",
    "        st.push(i)\n",
    "    if i == \"]\" and st.top()==\"[\":\n",
    "        st.pop()\n",
    "    elif i==\")\" and st.top()==\"(\":\n",
    "        st.pop()\n",
    "    elif i==\"}\" and st.top()==\"{\":\n",
    "        st.pop()\n",
    "    elif i in \"]})\":\n",
    "        st.push(i)\n",
    "print(st.size())   \n",
    "\n",
    "if st.size()==0:\n",
    "    print(\"valid\")\n",
    "else:\n",
    "    print(\"invalid\")"
   ]
  }
 ],
 "metadata": {
  "kernelspec": {
   "display_name": "Python 3",
   "language": "python",
   "name": "python3"
  },
  "language_info": {
   "codemirror_mode": {
    "name": "ipython",
    "version": 3
   },
   "file_extension": ".py",
   "mimetype": "text/x-python",
   "name": "python",
   "nbconvert_exporter": "python",
   "pygments_lexer": "ipython3",
   "version": "3.12.0"
  }
 },
 "nbformat": 4,
 "nbformat_minor": 2
}
