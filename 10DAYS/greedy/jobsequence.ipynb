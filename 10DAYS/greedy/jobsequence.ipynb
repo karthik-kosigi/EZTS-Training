{
 "cells": [
  {
   "cell_type": "markdown",
   "metadata": {},
   "source": [
    "# Job Sequencing\n"
   ]
  },
  {
   "cell_type": "markdown",
   "metadata": {},
   "source": [
    "### job:       j1   j2  j3  j4  j5\n",
    "### profit:    20   40  10  30  50\n",
    "### deadline:   2    1   2   3   1\n",
    "# p=100\n",
    "# j=[5,1,4]"
   ]
  },
  {
   "cell_type": "markdown",
   "metadata": {},
   "source": [
    "###   j1     j2      j3      j4      j5      j6      j7\n",
    "###   20     12      16      11      9       24      27\n",
    "###   2      1       2       1       2       3       3"
   ]
  }
 ],
 "metadata": {
  "language_info": {
   "name": "python"
  }
 },
 "nbformat": 4,
 "nbformat_minor": 2
}
