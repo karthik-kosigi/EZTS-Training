{
 "cells": [
  {
   "cell_type": "markdown",
   "metadata": {},
   "source": [
    "Problem Statement:\n",
    "In the enchanted land of Numeria, Alice is on a quest to find the legendary\n",
    "Prime Key to unlock the ancient Vault of Secrets. The vault's guardian, an\n",
    "ancient sphinx, presents a multi-step puzzle that Alice must solve to obtain the\n",
    "Prime Key.\n",
    "The puzzle consists of multiple levels, each requiring Alice to solve a different\n",
    "challenge involving prime numbers. To progress through each level, Alice must\n",
    "perform the following tasks:\n",
    "\n",
    "Level 1: Find the smallest prime number larger than a given integer N.\n",
    "\n",
    "Level 2: Calculate the sum of all numbers between N and the smallest\n",
    "prime number larger than N.\n",
    "\n",
    "Level 3: Determine if the product of the smallest prime number larger than N\n",
    "and the next immediate prime number is also a prime.\n",
    "\n",
    "To complete the puzzle and retrieve the Prime Key, Alice must solve these\n",
    "challenges in sequence for a given integer N.\n",
    "Your task is to write a function that takes an integer N and returns a tuple\n",
    "containing the following:\n",
    "- The smallest prime number larger than N (Level 1 result).\n",
    "- The sum of all prime numbers between N and the smallest prime number\n",
    "larger than N (Level 2 result).\n",
    "- A boolean indicating whether the product of the smallest prime number\n",
    "larger than N and the next immediate prime number is prime (Level 3 result).\n",
    "Help Alice navigate through the levels, solve the puzzle, and obtain the Prime\n",
    "Key to unlock the Vault of Secrets"
   ]
  },
  {
   "cell_type": "code",
   "execution_count": 15,
   "metadata": {},
   "outputs": [
    {
     "name": "stdout",
     "output_type": "stream",
     "text": [
      "(29, 130, False)\n"
     ]
    }
   ],
   "source": [
    "def isprime(m):\n",
    "    if m<=1:\n",
    "        return False\n",
    "    if m==2:\n",
    "        return True\n",
    "    if m%2==0:\n",
    "        return False\n",
    "    for i in range(3,int(m**0.5)+1):\n",
    "        if m%i==0:\n",
    "            return False\n",
    "    return True\n",
    "def return_next(n):\n",
    "    m=n\n",
    "    while True:\n",
    "        m=m+1\n",
    "        if isprime(m) and m>n:\n",
    "            return m\n",
    "        \n",
    "\n",
    "n = int(input(\"Enter n: \"))\n",
    "res=[]\n",
    "next_prime = return_next(n)\n",
    "sum_between_numbers= sum([i for i in range(n+1,next_prime)])\n",
    "res.append(next_prime)\n",
    "res.append(sum_between_numbers)\n",
    "product = True if isprime(next_prime*return_next(next_prime))> sum_between_numbers else False\n",
    "res.append(product)\n",
    "print(tuple(res))\n",
    "\n"
   ]
  }
 ],
 "metadata": {
  "kernelspec": {
   "display_name": "Python 3",
   "language": "python",
   "name": "python3"
  },
  "language_info": {
   "codemirror_mode": {
    "name": "ipython",
    "version": 3
   },
   "file_extension": ".py",
   "mimetype": "text/x-python",
   "name": "python",
   "nbconvert_exporter": "python",
   "pygments_lexer": "ipython3",
   "version": "3.12.0"
  }
 },
 "nbformat": 4,
 "nbformat_minor": 2
}
