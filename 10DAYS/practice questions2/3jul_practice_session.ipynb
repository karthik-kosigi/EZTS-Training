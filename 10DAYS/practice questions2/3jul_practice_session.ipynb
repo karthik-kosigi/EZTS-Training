{
 "cells": [
  {
   "cell_type": "code",
   "execution_count": 15,
   "metadata": {},
   "outputs": [
    {
     "name": "stdout",
     "output_type": "stream",
     "text": [
      "0\n"
     ]
    }
   ],
   "source": [
    "s=list(input())\n",
    "\n",
    "for i in range(len(s)):\n",
    "    if s[i]==\"w\":\n",
    "        if i==0:\n",
    "            for j in range(1,len(s)):\n",
    "                if s[j]!=\"w\":\n",
    "                    s[i]=s[j]\n",
    "        else:\n",
    "            s[i]=s[i-1]\n",
    "badness=0\n",
    "for i in range(1,len(s)):\n",
    "    if s[i]!=s[i-1]:\n",
    "        badness+=1\n",
    "print(badness)"
   ]
  },
  {
   "cell_type": "code",
   "execution_count": 8,
   "metadata": {},
   "outputs": [
    {
     "name": "stdout",
     "output_type": "stream",
     "text": [
      "[1, 1, 1, 1, 1, 1, 1]\n",
      "127\n"
     ]
    }
   ],
   "source": [
    "num=int(input())\n",
    "sym=[]\n",
    "while num>0:\n",
    "    if num%2==0:\n",
    "        sym.append(1)\n",
    "        num=num//2\n",
    "    else:\n",
    "        sym.append(1)\n",
    "        num=num//2\n",
    "print(sym)\n",
    "sym_num=0\n",
    "pow=0\n",
    "for _ in range(len(sym)):\n",
    "    sym_num+=(2**pow)\n",
    "    pow+=1\n",
    "print(sym_num)\n"
   ]
  },
  {
   "cell_type": "code",
   "execution_count": 6,
   "metadata": {},
   "outputs": [
    {
     "name": "stdout",
     "output_type": "stream",
     "text": [
      "63\n"
     ]
    }
   ],
   "source": [
    "num=int(input())\n",
    "sym=0\n",
    "temp=num\n",
    "pow=0\n",
    "while num>0:\n",
    "    sym+=(2**pow)\n",
    "    pow+=1\n",
    "    num=num//2\n",
    "print(sym-temp)"
   ]
  },
  {
   "cell_type": "markdown",
   "metadata": {},
   "source": []
  }
 ],
 "metadata": {
  "kernelspec": {
   "display_name": "Python 3",
   "language": "python",
   "name": "python3"
  },
  "language_info": {
   "codemirror_mode": {
    "name": "ipython",
    "version": 3
   },
   "file_extension": ".py",
   "mimetype": "text/x-python",
   "name": "python",
   "nbconvert_exporter": "python",
   "pygments_lexer": "ipython3",
   "version": "3.12.0"
  }
 },
 "nbformat": 4,
 "nbformat_minor": 2
}
