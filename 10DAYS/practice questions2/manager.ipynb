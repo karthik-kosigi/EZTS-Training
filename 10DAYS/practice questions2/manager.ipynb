{
 "cells": [
  {
   "cell_type": "code",
   "execution_count": 13,
   "metadata": {},
   "outputs": [
    {
     "name": "stdout",
     "output_type": "stream",
     "text": [
      "[5, 14, 14, -1, 7, 7, 9, -1, 6, 9, -1, 5, 5, -1, -1]\n"
     ]
    }
   ],
   "source": [
    "inp = [3,5,2,14,5,3,7,9,4,6,9,4,2,5,3]\n",
    "out=[]\n",
    "for i in range(len(inp)-1):\n",
    "    cnt=0\n",
    "    for j in range(i+1,len(inp)):\n",
    "        if inp[i]<inp[j]:\n",
    "            cnt+=1\n",
    "            out.append(inp[j])\n",
    "            break\n",
    "    if cnt==0:\n",
    "        out.append(-1)\n",
    "out.append(-1)\n",
    "print(out)"
   ]
  },
  {
   "cell_type": "markdown",
   "metadata": {},
   "source": [
    "using stack"
   ]
  },
  {
   "cell_type": "code",
   "execution_count": 15,
   "metadata": {},
   "outputs": [
    {
     "name": "stdout",
     "output_type": "stream",
     "text": [
      "[5, -1, 14, -1, -1, 7, 9, -1, 6, 9, -1, -1, 5, -1, -1]\n"
     ]
    }
   ],
   "source": [
    "class Stack:\n",
    "    def __init__(self) -> None:\n",
    "        self.items=[]\n",
    "    def push(self,data):\n",
    "        self.items.append(data)\n",
    "    def pop(self):\n",
    "        return self.items.pop()\n",
    "    def size(self):\n",
    "        return len(self.items)\n",
    "    def display(self):\n",
    "        print(self.items)\n",
    "    def is_empty(self):\n",
    "        if len(self.items)==0:\n",
    "            return True\n",
    "        else:\n",
    "            return False\n",
    "    def top(self):\n",
    "        if len(self.items)==0:\n",
    "            return 0\n",
    "        return self.items[-1]\n",
    "    \n",
    "st = Stack()\n",
    "\n",
    "\n",
    "\n",
    "\n",
    "\n",
    "\n",
    "inp = [3,5,2,14,5,3,7,9,4,6,9,4,2,5,3]\n",
    "out=[]\n",
    "\n",
    "for i in inp[::-1]:\n",
    "    if st.is_empty():\n",
    "        out.append(-1)\n",
    "        st.push(i)\n",
    "        continue\n",
    "    elif i >st.top():\n",
    "        st.pop()\n",
    "        out.append(-1)\n",
    "        st.push(i)\n",
    "    elif i<st.top():        \n",
    "        out.append(st.top())\n",
    "        st.pop()\n",
    "        st.push(i)\n",
    "print(out[::-1])\n",
    "\n"
   ]
  },
  {
   "cell_type": "code",
   "execution_count": 1,
   "metadata": {},
   "outputs": [
    {
     "name": "stdout",
     "output_type": "stream",
     "text": [
      "[5, 14, 14, -1, 7, 7, 9, -1, 6, 9, -1, 5, 5, -1, -1]\n"
     ]
    }
   ],
   "source": [
    "inp = [3, 5, 2, 14, 5, 3, 7, 9, 4, 6, 9, 4, 2, 5, 3]\n",
    "out = [-1] * len(inp)  # Initialize the output list with -1\n",
    "\n",
    "stack = []\n",
    "\n",
    "for i in range(len(inp) - 1, -1, -1):\n",
    "    # Maintain elements in decreasing order in stack\n",
    "    while stack and stack[-1] <= inp[i]:\n",
    "        stack.pop()\n",
    "    \n",
    "    if stack:\n",
    "        out[i] = stack[-1]\n",
    "    else:\n",
    "        out[i] = -1\n",
    "    \n",
    "    stack.append(inp[i])\n",
    "\n",
    "print(out)\n"
   ]
  }
 ],
 "metadata": {
  "kernelspec": {
   "display_name": "Python 3",
   "language": "python",
   "name": "python3"
  },
  "language_info": {
   "codemirror_mode": {
    "name": "ipython",
    "version": 3
   },
   "file_extension": ".py",
   "mimetype": "text/x-python",
   "name": "python",
   "nbconvert_exporter": "python",
   "pygments_lexer": "ipython3",
   "version": "3.12.0"
  }
 },
 "nbformat": 4,
 "nbformat_minor": 2
}
