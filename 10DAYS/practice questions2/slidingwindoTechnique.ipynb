{
 "cells": [
  {
   "cell_type": "markdown",
   "metadata": {},
   "source": [
    "#sliding window"
   ]
  },
  {
   "cell_type": "code",
   "execution_count": 3,
   "metadata": {},
   "outputs": [
    {
     "name": "stdout",
     "output_type": "stream",
     "text": [
      "9 9 9 \n",
      "Max Sum: 27\n"
     ]
    }
   ],
   "source": [
    "l = [2, 4, 3, 5, 6, 3, 4, 6, 7, 1, 2, 5]\n",
    "k = 3\n",
    "\n",
    "# Step 1: Calculate the sum of the first k elements\n",
    "current_sum = sum(l[:k])\n",
    "max_sum = current_sum\n",
    "pos = 0\n",
    "\n",
    "# Step 2: Slide the window across the list\n",
    "for i in range(1, len(l) - k + 1):\n",
    "    current_sum = current_sum - l[i - 1] + l[i + k - 1]\n",
    "    if current_sum > max_sum:\n",
    "        max_sum = current_sum\n",
    "        pos = i\n",
    "\n",
    "# Print the subarray with the maximum sum\n",
    "for i in range(pos, pos + k):\n",
    "    print(l[i], end=\" \")\n",
    "\n",
    "print(\"\\nMax Sum:\", max_sum)\n"
   ]
  }
 ],
 "metadata": {
  "kernelspec": {
   "display_name": "Python 3",
   "language": "python",
   "name": "python3"
  },
  "language_info": {
   "codemirror_mode": {
    "name": "ipython",
    "version": 3
   },
   "file_extension": ".py",
   "mimetype": "text/x-python",
   "name": "python",
   "nbconvert_exporter": "python",
   "pygments_lexer": "ipython3",
   "version": "3.12.0"
  }
 },
 "nbformat": 4,
 "nbformat_minor": 2
}
