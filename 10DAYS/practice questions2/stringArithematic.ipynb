{
 "cells": [
  {
   "cell_type": "code",
   "execution_count": 12,
   "metadata": {},
   "outputs": [
    {
     "name": "stdout",
     "output_type": "stream",
     "text": [
      "[2.0, 3.0]\n",
      "2 3\n",
      "5.0\n"
     ]
    }
   ],
   "source": [
    "st = \"2+3\"\n",
    "op=[\"+\",\"*\",\"/\"]\n",
    "for i in st:\n",
    "    if i in op:\n",
    "        x=i\n",
    "        st = st.replace(i,\" \")\n",
    "nums = list(map(float,st.split(\" \")))\n",
    "print(nums)\n",
    "print(st)\n",
    "match x:\n",
    "    case '+':print(sum(nums))\n",
    "    case '*':print(nums[0]*nums[1])\n",
    "    case '/':print(nums[0]/nums[1])"
   ]
  }
 ],
 "metadata": {
  "kernelspec": {
   "display_name": "Python 3",
   "language": "python",
   "name": "python3"
  },
  "language_info": {
   "codemirror_mode": {
    "name": "ipython",
    "version": 3
   },
   "file_extension": ".py",
   "mimetype": "text/x-python",
   "name": "python",
   "nbconvert_exporter": "python",
   "pygments_lexer": "ipython3",
   "version": "3.12.0"
  }
 },
 "nbformat": 4,
 "nbformat_minor": 2
}
