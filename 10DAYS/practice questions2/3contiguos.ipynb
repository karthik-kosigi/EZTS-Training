{
 "cells": [
  {
   "cell_type": "markdown",
   "metadata": {},
   "source": [
    "given an array your task is to find the  3 contiguous digits which gives you the maximum number"
   ]
  },
  {
   "cell_type": "code",
   "execution_count": 2,
   "metadata": {},
   "outputs": [
    {
     "name": "stdout",
     "output_type": "stream",
     "text": [
      "9 9 9 "
     ]
    }
   ],
   "source": [
    "# a=[2,4,3,5,6,3,4,6,7,1,2,5]\n",
    "# k=4\n",
    "# maxi=0\n",
    "# for i in range(len(a)):\n",
    "#     if maxi<sum(a[i:i+k]):\n",
    "#         l=a[i:i+k]\n",
    "#     maxi = max(maxi,sum(a[i:i+k]))\n",
    "# print(l)\n",
    "\n",
    "\n",
    "\n",
    "l=[2,4,3,5,6,3,4,6,7,1,2,5,9,9,9]\n",
    "# l = [2,3,4,5]\n",
    "sum=max=0\n",
    "k=3\n",
    "for i in range(0,len(l)-(k-1)):\n",
    "    sum=0\n",
    "    for j in range(i,k+i):\n",
    "        sum +=l[j]\n",
    "    if max<sum:\n",
    "        max=sum\n",
    "        pos=i\n",
    "for i in range(pos,pos+k):\n",
    "    print(l[i],end=\" \")"
   ]
  },
  {
   "cell_type": "markdown",
   "metadata": {},
   "source": []
  }
 ],
 "metadata": {
  "kernelspec": {
   "display_name": "Python 3",
   "language": "python",
   "name": "python3"
  },
  "language_info": {
   "codemirror_mode": {
    "name": "ipython",
    "version": 3
   },
   "file_extension": ".py",
   "mimetype": "text/x-python",
   "name": "python",
   "nbconvert_exporter": "python",
   "pygments_lexer": "ipython3",
   "version": "3.12.0"
  }
 },
 "nbformat": 4,
 "nbformat_minor": 2
}
