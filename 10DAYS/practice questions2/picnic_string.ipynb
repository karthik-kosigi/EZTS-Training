{
 "cells": [
  {
   "cell_type": "code",
   "execution_count": 37,
   "metadata": {},
   "outputs": [
    {
     "name": "stdout",
     "output_type": "stream",
     "text": [
      "{'alex': ['a', 'i'], 'tom': ['a']}\n"
     ]
    }
   ],
   "source": [
    "l = [\n",
    "    [\"alex\",\"i love to watch him playing football\"],\n",
    "    [\"tom\",\"i am batman and men are brave\"]\n",
    "]\n",
    "dic = {}\n",
    "\n",
    "\n",
    "def max_vowel(sentence):\n",
    "    for i in sentence:\n",
    "        if i.lower() in [\"a\",\"e\",\"i\",\"o\",\"u\"]:\n",
    "            dic[i]=sentence.count(i)\n",
    "    max_dic = sorted(dic)\n",
    "    flist=[]\n",
    "    for i,j in dic.items():\n",
    "        if dic[max_dic[0]]==j:\n",
    "            flist.append(i)\n",
    "    return flist\n",
    "final_dic={}\n",
    "\n",
    "\n",
    "for i in range(len(l)):\n",
    "        final_dic[l[i][0]]= sorted(max_vowel(l[i][1]))\n",
    "print(final_dic)\n",
    "\n"
   ]
  }
 ],
 "metadata": {
  "kernelspec": {
   "display_name": "Python 3",
   "language": "python",
   "name": "python3"
  },
  "language_info": {
   "codemirror_mode": {
    "name": "ipython",
    "version": 3
   },
   "file_extension": ".py",
   "mimetype": "text/x-python",
   "name": "python",
   "nbconvert_exporter": "python",
   "pygments_lexer": "ipython3",
   "version": "3.12.0"
  }
 },
 "nbformat": 4,
 "nbformat_minor": 2
}
