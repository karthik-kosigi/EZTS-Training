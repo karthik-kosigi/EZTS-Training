{
 "cells": [
  {
   "cell_type": "code",
   "execution_count": 37,
   "metadata": {},
   "outputs": [
    {
     "name": "stdout",
     "output_type": "stream",
     "text": [
      "{'alex': ['a', 'i'], 'tom': ['a']}\n"
     ]
    }
   ],
   "source": [
    "l = [\n",
    "    [\"alex\",\"i love to watch him playing football\"],\n",
    "    [\"tom\",\"i am batman and men are brave\"]\n",
    "]\n",
    "dic = {}\n",
    "\n",
    "\n",
    "def max_vowel(sentence):\n",
    "    for i in sentence:\n",
    "        if i.lower() in [\"a\",\"e\",\"i\",\"o\",\"u\"]:\n",
    "            dic[i]=sentence.count(i)\n",
    "    max_dic = sorted(dic)\n",
    "    flist=[]\n",
    "    for i,j in dic.items():\n",
    "        if dic[max_dic[0]]==j:\n",
    "            flist.append(i)\n",
    "    return flist\n",
    "final_dic={}\n",
    "\n",
    "\n",
    "for i in range(len(l)):\n",
    "        final_dic[l[i][0]]= sorted(max_vowel(l[i][1]))\n",
    "print(final_dic)\n",
    "\n"
   ]
  },
  {
   "cell_type": "code",
   "execution_count": null,
   "metadata": {},
   "outputs": [],
   "source": []
  },
  {
   "cell_type": "code",
   "execution_count": 38,
   "metadata": {},
   "outputs": [
    {
     "name": "stdout",
     "output_type": "stream",
     "text": [
      "{'Srinivas': ['A', 'I'], 'Sanath': ['A', 'E', 'I', 'U'], 'Karthik': ['I']}\n"
     ]
    }
   ],
   "source": [
    "def count_vowel(S):\n",
    "    dic = {'A':0,'E':0,'I':0,'O':0,'U':0}\n",
    "    for i in S:\n",
    "        if i == 'a' or i == 'A':\n",
    "            dic['A']+=1\n",
    "        elif i == 'e' or i == 'E':\n",
    "            dic['E']+=1\n",
    "        elif i == 'i' or i == 'I':\n",
    "            dic['I']+=1\n",
    "        elif i == 'o' or i == 'O':\n",
    "            dic['O']+=1\n",
    "        elif i == 'u' or i == 'U':\n",
    "            dic['U']+=1\n",
    "    x=max(dic.values())\n",
    "    result=[]\n",
    "    for i,j in dic.items():\n",
    "        if j==x:\n",
    "            result.append(i)\n",
    "    return result\n",
    "        \n",
    "i_p=[\n",
    "    [\"Srinivas\",\"In class\"],\n",
    "    [\"Sanath\",\"He is a guy\"],\n",
    "    [\"Karthik\",\"He is doing coding\"]\n",
    " ]\n",
    "o_p={}\n",
    "for i in i_p:\n",
    "    o_p[i[0]]=count_vowel(i[1])\n",
    "print(o_p)\n"
   ]
  }
 ],
 "metadata": {
  "kernelspec": {
   "display_name": "Python 3",
   "language": "python",
   "name": "python3"
  },
  "language_info": {
   "codemirror_mode": {
    "name": "ipython",
    "version": 3
   },
   "file_extension": ".py",
   "mimetype": "text/x-python",
   "name": "python",
   "nbconvert_exporter": "python",
   "pygments_lexer": "ipython3",
   "version": "3.12.0"
  }
 },
 "nbformat": 4,
 "nbformat_minor": 2
}
