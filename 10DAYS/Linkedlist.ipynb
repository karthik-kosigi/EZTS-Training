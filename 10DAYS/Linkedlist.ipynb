{
 "cells": [
  {
   "cell_type": "code",
   "execution_count": 4,
   "metadata": {},
   "outputs": [
    {
     "name": "stdout",
     "output_type": "stream",
     "text": [
      "10\n",
      "20\n",
      "30\n"
     ]
    }
   ],
   "source": [
    "class Node:\n",
    "    def __init__(self,data) -> None:\n",
    "        self.value = data\n",
    "        self.next=None\n",
    "head = tail = Node(10)\n",
    "\n",
    "tail.next=Node(20)\n",
    "tail=tail.next\n",
    "\n",
    "tail.next=Node(30)\n",
    "tail=tail.next\n",
    "\n",
    "while head:\n",
    "    print(head.value)\n",
    "    head=head.next\n",
    "\n",
    "\n",
    "# print(head.value,head.next.value)"
   ]
  },
  {
   "cell_type": "code",
   "execution_count": 4,
   "metadata": {},
   "outputs": [
    {
     "name": "stdout",
     "output_type": "stream",
     "text": [
      "List is Empty\n"
     ]
    }
   ],
   "source": [
    "class Node:\n",
    "    def __init__(self,data) -> None:\n",
    "        self.value = data\n",
    "        self.next=None\n",
    "\n",
    "class LL:\n",
    "    def __init__(self) -> None:\n",
    "        self.head=None\n",
    "    def insert_front(self,val):\n",
    "        new_node=Node(val)\n",
    "        if self.head==None:\n",
    "            self.head=new_node\n",
    "        else:\n",
    "            new_node.next=self.head\n",
    "            self.head=new_node\n",
    "\n",
    "    def insert_end(self,val):\n",
    "        new_node=Node(val)\n",
    "        if self.head==None:\n",
    "            self.head=new_node\n",
    "        else:\n",
    "            curr =self.head\n",
    "            while curr.next:\n",
    "                curr=curr.next\n",
    "            curr.next=new_node\n",
    "    def delete_front(self):\n",
    "        if self.head==None:\n",
    "            print(\"List is Empty\")\n",
    "        else:\n",
    "            self.head=self.head.next\n",
    "    def delete_end(self):\n",
    "        if self.head==None:\n",
    "            print(\"list is empty\")\n",
    "        elif self.head.next==None:\n",
    "            self.head=None\n",
    "        else:\n",
    "            curr=self.head\n",
    "            while curr.next:\n",
    "                p=curr\n",
    "                curr=curr.next\n",
    "            p.next=None\n",
    "    def display_list(self):\n",
    "        if self.head==None:\n",
    "            print(\"List is Empty\")\n",
    "        else:\n",
    "            curr = self.head\n",
    "            while curr:\n",
    "                print(curr.value)\n",
    "                curr=curr.next\n",
    "ob = LL()\n",
    "ob.insert_front(10)\n",
    "# ob.insert_end(20)\n",
    "# ob.insert_end(30)\n",
    "# ob.insert_end(40)\n",
    "# ob.delete_front()\n",
    "# ob.display_list()\n",
    "ob.delete_end()\n",
    "ob.display_list()\n"
   ]
  },
  {
   "cell_type": "code",
   "execution_count": null,
   "metadata": {},
   "outputs": [],
   "source": []
  }
 ],
 "metadata": {
  "kernelspec": {
   "display_name": "Python 3",
   "language": "python",
   "name": "python3"
  },
  "language_info": {
   "codemirror_mode": {
    "name": "ipython",
    "version": 3
   },
   "file_extension": ".py",
   "mimetype": "text/x-python",
   "name": "python",
   "nbconvert_exporter": "python",
   "pygments_lexer": "ipython3",
   "version": "3.12.0"
  }
 },
 "nbformat": 4,
 "nbformat_minor": 2
}
