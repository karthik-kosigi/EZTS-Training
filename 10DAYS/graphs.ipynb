{
 "cells": [
  {
   "cell_type": "markdown",
   "metadata": {},
   "source": [
    "# Graphs"
   ]
  },
  {
   "cell_type": "markdown",
   "metadata": {},
   "source": [
    "adjacency list representation\n",
    "gr=[ (1,2,0),(1,3,0),(3,1,0),(3,6,0),(3,5,0),(2,1,0),(2,7,0),(6,3,0)]  #(start,end,weight)"
   ]
  },
  {
   "cell_type": "code",
   "execution_count": 46,
   "metadata": {},
   "outputs": [
    {
     "name": "stdout",
     "output_type": "stream",
     "text": [
      "5 3 6 8 4 7 2 1 \n",
      "5 3 6 8 4 7 2 1 "
     ]
    }
   ],
   "source": [
    "g={1:[(1,2,0),(1,3,0)]\n",
    "   ,2:[(2,1,0),(2,7,0)]\n",
    "   ,3:[(3,1,0),(3,5,0),(3,6,0)]\n",
    "   ,4:[(4,7,0),(4,8,0)]\n",
    "   ,5:[(5,3,0),(5,7,0)]\n",
    "   ,6:[(6,3,0),(6,8,0)]\n",
    "   ,7:[(7,2,0),(7,4,0),(7,5,0)]\n",
    "   ,8:[(8,4,0),(8,6,0)]\n",
    "   }\n",
    "v_g={}\n",
    "v_g=v_g.fromkeys(g,False)\n",
    "\n",
    "\n",
    "def dfs(node, visited, graph):\n",
    "    visited[node] = True\n",
    "    for edge in graph[node]:\n",
    "        neighbor = edge[1]\n",
    "        if not visited[neighbor]:\n",
    "            dfs(neighbor, visited, graph)\n",
    "    print(node,end=\" \")\n",
    "\n",
    "\n",
    "def dfs_sir(graph,visited,stack,node):\n",
    "    if visited[node]==False:\n",
    "        stack.append(node)\n",
    "        visited[node]=True\n",
    "    else:\n",
    "        return\n",
    "    for i in graph[node]:\n",
    "        dfs_sir(graph,visited,stack,i[1])\n",
    "    print(stack.pop(),end=\" \")\n",
    "stack=[]\n",
    "start_node = 1\n",
    "dfs(start_node, v_g, g)\n",
    "v_g=v_g.fromkeys(g,False)\n",
    "print()\n",
    "dfs_sir(g, v_g, stack,start_node)  \n"
   ]
  },
  {
   "cell_type": "code",
   "execution_count": 27,
   "metadata": {},
   "outputs": [
    {
     "name": "stdout",
     "output_type": "stream",
     "text": [
      "3 4 2 5 1 "
     ]
    }
   ],
   "source": [
    "g = {1:[(1,2,0),(1,3,0),(1,5,0)],\n",
    "         2:[(2,1,0),(2,4,0)],\n",
    "         3:[(3,1,0),(3,4,0)],\n",
    "         4:[(4,2,0),(4,3,0)],\n",
    "         5:[(5,1,0)]\n",
    "\n",
    "         }\n",
    "v_g={\n",
    "    1:False\n",
    "    ,2:False\n",
    "    ,3:False\n",
    "    ,4:False\n",
    "    ,5:False\n",
    "    }\n",
    "\n",
    "def dfs(node, visited, graph):\n",
    "    visited[node] = True\n",
    "    for edge in graph[node]:\n",
    "        neighbor = edge[1]\n",
    "        if not visited[neighbor]:\n",
    "            dfs(neighbor, visited, graph)\n",
    "    print(node,end=\" \")\n",
    "start_node = 1\n",
    "dfs(start_node, v_g, g)"
   ]
  },
  {
   "cell_type": "markdown",
   "metadata": {},
   "source": [
    "# BFS\n"
   ]
  },
  {
   "cell_type": "code",
   "execution_count": 60,
   "metadata": {},
   "outputs": [
    {
     "name": "stdout",
     "output_type": "stream",
     "text": [
      "1\n",
      "2\n",
      "3\n",
      "7\n",
      "5\n",
      "6\n",
      "4\n",
      "8\n"
     ]
    }
   ],
   "source": [
    "g={1:[(1,2,0),(1,3,0)]\n",
    "   ,2:[(2,1,0),(2,7,0)]\n",
    "   ,3:[(3,1,0),(3,5,0),(3,6,0)]\n",
    "   ,4:[(4,7,0),(4,8,0)]\n",
    "   ,5:[(5,3,0),(5,7,0)]\n",
    "   ,6:[(6,3,0),(6,8,0)]\n",
    "   ,7:[(7,2,0),(7,4,0),(7,5,0)]\n",
    "   ,8:[(8,4,0),(8,6,0)]\n",
    "   }\n",
    "v_g={}\n",
    "v_g=v_g.fromkeys(g,False)\n",
    "\n",
    "\n",
    "def bfs(g,v_g,node):\n",
    "    Q=[node]\n",
    "    v_g[node]=True\n",
    "    while len(Q)!=0:\n",
    "        curr=Q.pop(0)\n",
    "        print(curr)\n",
    "        for i in g[curr]:\n",
    "            if v_g[i[1]]==False:\n",
    "                Q.append(i[1])\n",
    "                v_g[i[1]]=True\n",
    "start_node=1\n",
    "bfs(g,v_g,start_node)"
   ]
  }
 ],
 "metadata": {
  "kernelspec": {
   "display_name": "Python 3",
   "language": "python",
   "name": "python3"
  },
  "language_info": {
   "codemirror_mode": {
    "name": "ipython",
    "version": 3
   },
   "file_extension": ".py",
   "mimetype": "text/x-python",
   "name": "python",
   "nbconvert_exporter": "python",
   "pygments_lexer": "ipython3",
   "version": "3.12.0"
  }
 },
 "nbformat": 4,
 "nbformat_minor": 2
}
