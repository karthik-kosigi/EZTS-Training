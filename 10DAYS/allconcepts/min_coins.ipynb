{
 "cells": [
  {
   "cell_type": "code",
   "execution_count": 3,
   "metadata": {},
   "outputs": [
    {
     "name": "stdout",
     "output_type": "stream",
     "text": [
      "6\n"
     ]
    }
   ],
   "source": [
    "bill=18\n",
    "count=0\n",
    "count+=bill//7\n",
    "bill=bill%7\n",
    "count+=bill//5\n",
    "bill=bill%5\n",
    "count+=bill//1\n",
    "print(count)"
   ]
  },
  {
   "cell_type": "code",
   "execution_count": 17,
   "metadata": {},
   "outputs": [
    {
     "name": "stdout",
     "output_type": "stream",
     "text": [
      "4\n"
     ]
    }
   ],
   "source": [
    "# coins=[7,5,1]\n",
    "# dp={1:0,5:0,7:0}\n",
    "# bill=18\n",
    "# c=0\n",
    "# def min_coins(rem,dp):\n",
    "#     if rem == 0:\n",
    "#         return \n",
    "#     for i in coins:\n",
    "#         dp[i]+=1\n",
    "#         min_coins(bill-i,dp)\n",
    "    \n",
    "# min_coins(bill,dp)\n",
    "# print(dp)\n",
    "\n",
    "def min_coins(coins, bill):\n",
    "    # Initialize the DP table with infinity for all values except 0\n",
    "    dp = [float('inf')] * (bill + 1)\n",
    "    dp[0] = 0\n",
    "\n",
    "    # Compute the minimum coins required for each amount up to the bill\n",
    "    for i in range(1, bill + 1):\n",
    "        for coin in coins:\n",
    "            if i >= coin:\n",
    "                dp[i] = min(dp[i], dp[i - coin] + 1)\n",
    "    \n",
    "    # Check if it is possible to make the bill amount with the given coins\n",
    "    return dp[bill] if dp[bill] != float('inf') else -1\n",
    "\n",
    "coins = [7, 5, 1]\n",
    "bill = 18\n",
    "print(min_coins(coins, bill))\n"
   ]
  }
 ],
 "metadata": {
  "kernelspec": {
   "display_name": "Python 3",
   "language": "python",
   "name": "python3"
  },
  "language_info": {
   "codemirror_mode": {
    "name": "ipython",
    "version": 3
   },
   "file_extension": ".py",
   "mimetype": "text/x-python",
   "name": "python",
   "nbconvert_exporter": "python",
   "pygments_lexer": "ipython3",
   "version": "3.12.0"
  }
 },
 "nbformat": 4,
 "nbformat_minor": 2
}
