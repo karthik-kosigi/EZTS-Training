{
 "cells": [
  {
   "cell_type": "markdown",
   "metadata": {},
   "source": [
    "# max heap"
   ]
  },
  {
   "cell_type": "code",
   "execution_count": 5,
   "metadata": {},
   "outputs": [
    {
     "name": "stdout",
     "output_type": "stream",
     "text": [
      "[100, 85, 90, 80, 50, 70, 40, 60]\n"
     ]
    }
   ],
   "source": [
    "# maxheap=[100,80,90,60,50,70,40,10,25,85]\n",
    "maxheap=[100,80,90,60,50,70,40,85]\n",
    "i=len(maxheap)-1\n",
    "while i>0:\n",
    "    if maxheap[i]>maxheap[i//2]:\n",
    "        maxheap[i],maxheap[i//2]=maxheap[i//2],maxheap[i]\n",
    "    i=i//2\n",
    "print(maxheap)"
   ]
  },
  {
   "cell_type": "code",
   "execution_count": 6,
   "metadata": {},
   "outputs": [
    {
     "name": "stdout",
     "output_type": "stream",
     "text": [
      "[100, 85, 90, 80, 50, 70, 40, 60]\n"
     ]
    }
   ],
   "source": [
    "import heapq as hq\n",
    "hq._heapify_max(maxheap)\n",
    "print(maxheap)"
   ]
  },
  {
   "cell_type": "markdown",
   "metadata": {},
   "source": [
    "# Min heap"
   ]
  },
  {
   "cell_type": "code",
   "execution_count": 22,
   "metadata": {},
   "outputs": [
    {
     "name": "stdout",
     "output_type": "stream",
     "text": [
      "[40, 100, 90, 80, 50, 70, 60]\n",
      "[40, 50, 70, 60, 80, 100, 90]\n"
     ]
    }
   ],
   "source": [
    "minheap=[100,80,90,60,50,70,40]\n",
    "i=len(minheap)-1\n",
    "while i>0:\n",
    "    if minheap[i]<minheap[i//2]:\n",
    "        minheap[i],minheap[i//2]=minheap[i//2],minheap[i]\n",
    "    i=i//2\n",
    "print(minheap)\n",
    "\n",
    "\n",
    "def heapify_down(minheap, i, n):\n",
    "    smallest = i\n",
    "    left = 2 * i + 1\n",
    "    right = 2 * i + 2\n",
    "\n",
    "    if left < n and minheap[left] < minheap[smallest]:\n",
    "        smallest = left\n",
    "\n",
    "    if right < n and minheap[right] < minheap[smallest]:\n",
    "        smallest = right\n",
    "\n",
    "    if smallest != i:\n",
    "        minheap[i], minheap[smallest] = minheap[smallest], minheap[i]\n",
    "        heapify_down(minheap, smallest, n)\n",
    "\n",
    "def build_min_heap(minheap):\n",
    "    n = len(minheap)\n",
    "    # Start from the last parent node and heapify downwards\n",
    "    for i in range(n // 2 - 1, -1, -1):\n",
    "        heapify_down(minheap, i, n)\n",
    "\n",
    "minheap = [100, 80, 90, 60, 50, 70, 40]\n",
    "build_min_heap(minheap)\n",
    "print(minheap)\n"
   ]
  },
  {
   "cell_type": "code",
   "execution_count": 18,
   "metadata": {},
   "outputs": [
    {
     "name": "stdout",
     "output_type": "stream",
     "text": [
      "[40, 70, 50, 80, 100, 90, 60]\n"
     ]
    }
   ],
   "source": [
    "hq.heapify(minheap)\n",
    "print(minheap)"
   ]
  }
 ],
 "metadata": {
  "kernelspec": {
   "display_name": "Python 3",
   "language": "python",
   "name": "python3"
  },
  "language_info": {
   "codemirror_mode": {
    "name": "ipython",
    "version": 3
   },
   "file_extension": ".py",
   "mimetype": "text/x-python",
   "name": "python",
   "nbconvert_exporter": "python",
   "pygments_lexer": "ipython3",
   "version": "3.12.0"
  }
 },
 "nbformat": 4,
 "nbformat_minor": 2
}
