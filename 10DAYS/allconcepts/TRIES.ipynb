{
 "cells": [
  {
   "cell_type": "code",
   "execution_count": 2,
   "metadata": {},
   "outputs": [
    {
     "name": "stdout",
     "output_type": "stream",
     "text": [
      "True\n",
      "True\n",
      "True\n",
      "True\n",
      "False\n",
      "True\n"
     ]
    }
   ],
   "source": [
    "class TrieNode:\n",
    "    def __init__(self):\n",
    "        self.children = {}\n",
    "        self.is_end_of_word = False\n",
    "\n",
    "class Trie:\n",
    "    def __init__(self):\n",
    "        self.root = TrieNode()\n",
    "    \n",
    "    def insert(self, word):\n",
    "        current = self.root\n",
    "        for char in word:\n",
    "            if char not in current.children:\n",
    "                current.children[char] = TrieNode()\n",
    "            current = current.children[char]\n",
    "        current.is_end_of_word = True\n",
    "    \n",
    "    def search(self, word):\n",
    "        current = self.root\n",
    "        for char in word:\n",
    "            if char not in current.children:\n",
    "                return False\n",
    "            current = current.children[char]\n",
    "        return current.is_end_of_word\n",
    "\n",
    "# Create a trie and insert the words\n",
    "trie = Trie()\n",
    "words = [\"what\", \"when\", \"why\", \"where\",\"pneumonoultramicroscopicsilicovolcanoconiosis\"]\n",
    "for word in words:\n",
    "    trie.insert(word)\n",
    "\n",
    "# Test search functionality\n",
    "print(trie.search(\"what\"))  # Output: True\n",
    "print(trie.search(\"when\"))  # Output: True\n",
    "print(trie.search(\"why\"))   # Output: True\n",
    "print(trie.search(\"where\")) # Output: True\n",
    "print(trie.search(\"who\"))   # Output: False\n",
    "print(trie.search(\"pneumonoultramicroscopicsilicovolcanoconiosis\"))\n"
   ]
  }
 ],
 "metadata": {
  "kernelspec": {
   "display_name": "Python 3",
   "language": "python",
   "name": "python3"
  },
  "language_info": {
   "codemirror_mode": {
    "name": "ipython",
    "version": 3
   },
   "file_extension": ".py",
   "mimetype": "text/x-python",
   "name": "python",
   "nbconvert_exporter": "python",
   "pygments_lexer": "ipython3",
   "version": "3.12.0"
  }
 },
 "nbformat": 4,
 "nbformat_minor": 2
}
