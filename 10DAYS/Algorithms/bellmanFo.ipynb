{
 "cells": [
  {
   "cell_type": "markdown",
   "metadata": {},
   "source": [
    "# bellman ford using adjacency list"
   ]
  },
  {
   "cell_type": "code",
   "execution_count": 1,
   "metadata": {},
   "outputs": [
    {
     "name": "stdout",
     "output_type": "stream",
     "text": [
      "{'A': 0, 'B': 1, 'C': 3, 'D': 5, 'E': 0, 'F': 3}\n"
     ]
    }
   ],
   "source": [
    "def bellmanford(v,e):\n",
    "    a='ABCDEF'\n",
    "    l={}\n",
    "    d=l.fromkeys(a,float('inf'))\n",
    "    d['A']=0\n",
    "    for _ in range(v-1):\n",
    "      for u,v,w in e:\n",
    "         if d[u]+w<d[v]:\n",
    "            d[v]=d[u]+w\n",
    "    return d\n",
    "\n",
    "\n",
    "if __name__ == \"__main__\":\n",
    "    V = 6\n",
    "    S = 0\n",
    "    edges = [\n",
    "        ('A','B',6),\n",
    "        ('A','C',4),\n",
    "        ('A','D',5),\n",
    "        ('B','E',-1),\n",
    "        ('C','B',-2),\n",
    "        ('C','E',3),\n",
    "        ('D','C',-2),\n",
    "        ('D','F',-1),\n",
    "        ('E','F',3)\n",
    "    ]\n",
    "    d=bellmanford(V,edges)\n",
    "    #print(\" \".join(map(str,d)))\n",
    "    print(d)"
   ]
  },
  {
   "cell_type": "markdown",
   "metadata": {},
   "source": [
    "# using adjacency matrix"
   ]
  },
  {
   "cell_type": "code",
   "execution_count": 2,
   "metadata": {},
   "outputs": [
    {
     "name": "stdout",
     "output_type": "stream",
     "text": [
      "{0: 0, 1: inf, 2: inf, 3: inf, 4: inf, 5: inf}\n",
      "{0: 0, 1: inf, 2: inf, 3: inf, 4: inf, 5: inf}\n"
     ]
    }
   ],
   "source": [
    "g = [\n",
    "    [0, 6, 4, 5, False, False],\n",
    "    [False, 0, False, False, -1, False],\n",
    "    [False, -2, 0, False, 3, False],\n",
    "    [False, False, -2, 0, False, -1],\n",
    "    [False, False, False, False, 0, 3],\n",
    "    [False, False, False, False, False, 0]\n",
    "]\n",
    "\n",
    "# Node labels\n",
    "nodes = ['A', 'B', 'C', 'D', 'E', 'F']\n",
    "\n",
    "# Initialize the edge list\n",
    "e_l = []\n",
    "for i in range(len(g)):\n",
    "    for j in range(len(g[i])):\n",
    "        if g[i][j]==False and g[i][j]!=0:\n",
    "            e_l.append((nodes[i],nodes[j]))\n",
    "dist=[]\n",
    "for i in range(len(g)):\n",
    "    dist[i]=float('inf')\n",
    "dist[0]=0\n",
    "print(dist)\n",
    "for i in range(len(g)-1):\n",
    "    for j in e_l:\n",
    "        new_dist=dist[j[0]]+g[j[0]][j[1]]\n",
    "        if dist[j[1]]>new_dist:\n",
    "            dist[j[1]]=new_dist\n",
    "print(dist)ut"
   ]
  }
 ],
 "metadata": {
  "kernelspec": {
   "display_name": "Python 3",
   "language": "python",
   "name": "python3"
  },
  "language_info": {
   "codemirror_mode": {
    "name": "ipython",
    "version": 3
   },
   "file_extension": ".py",
   "mimetype": "text/x-python",
   "name": "python",
   "nbconvert_exporter": "python",
   "pygments_lexer": "ipython3",
   "version": "3.12.0"
  }
 },
 "nbformat": 4,
 "nbformat_minor": 2
}
