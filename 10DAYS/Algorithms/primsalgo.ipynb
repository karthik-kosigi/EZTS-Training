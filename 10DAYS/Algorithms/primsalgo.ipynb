{
 "cells": [
  {
   "cell_type": "code",
   "execution_count": 4,
   "metadata": {},
   "outputs": [
    {
     "name": "stdout",
     "output_type": "stream",
     "text": [
      "inf\n",
      "(2, 4, 1)\n",
      "(4, 7, 3)\n",
      "(7, 10, 2)\n",
      "(4, 8, 3)\n",
      "(8, 1, 2)\n",
      "(2, 3, 4)\n",
      "(4, 5, 6)\n",
      "(4, 6, 8)\n",
      "(5, 9, 8)\n"
     ]
    }
   ],
   "source": [
    "graph=[\n",
    "    [0,7,-1,-1,-1,-1,-1,2,-1,-1],\n",
    "    [7,0,4,1,-1,-1,5,-1,-1,-1,-1],\n",
    "    [-1,4,0,-1,-1,-1,-1,8,-1,-1],\n",
    "    [-1,1,-1,0,6,8,3,3,-1,-1],\n",
    "    [-1,-1,-1,6,0,-1,-1,6,8,-1],\n",
    "    [-1,5,-1,8,-1,0,-1,-1,-1,-1],\n",
    "    [-1,-1,-1,3,-1,-1,0,-1,9,2],\n",
    "    [2,-1,88,3,6,-1,-1,0,-1,-1],\n",
    "    [-1,-1,-1,-1,8,-1,9,-1,0,-1],\n",
    "    [-1,-1,-1,-1,-1,-1,2,-1,-1,0],\n",
    "]\n",
    "\n",
    "visited =[False]*len(graph)\n",
    "min=float('inf')\n",
    "x=y=-1\n",
    "print(min)\n",
    "for i in range(len(graph)):\n",
    "    for j in range(len(graph[i])):\n",
    "        if graph[i][j]==0 or graph[i][j]==-1:\n",
    "            continue\n",
    "        elif min>graph[i][j]:\n",
    "            min=graph[i][j]\n",
    "            x=i\n",
    "            y=j\n",
    "\n",
    "\n",
    "visited[x]=True\n",
    "visited[y]=True\n",
    "mst=[]\n",
    "mst.append(tuple((x+1,y+1,min)))\n",
    "\n",
    "while False in visited:\n",
    "    min=float('inf')\n",
    "    for i in range(len(visited)):\n",
    "        if visited[i]==True:\n",
    "            for j in range(len(graph[i])):\n",
    "                if graph[i][j]==0 or graph[i][j]==-1 or visited[j]==True:\n",
    "                    continue\n",
    "                elif min>graph[i][j]:\n",
    "                    min=graph[i][j]\n",
    "                    x=i\n",
    "                    y=j\n",
    "    visited[y]=True\n",
    "    mst.append(tuple((x+1,y+1,min)))\n",
    "for i in mst:\n",
    "    print(i)"
   ]
  }
 ],
 "metadata": {
  "kernelspec": {
   "display_name": "Python 3",
   "language": "python",
   "name": "python3"
  },
  "language_info": {
   "codemirror_mode": {
    "name": "ipython",
    "version": 3
   },
   "file_extension": ".py",
   "mimetype": "text/x-python",
   "name": "python",
   "nbconvert_exporter": "python",
   "pygments_lexer": "ipython3",
   "version": "3.12.0"
  }
 },
 "nbformat": 4,
 "nbformat_minor": 2
}
