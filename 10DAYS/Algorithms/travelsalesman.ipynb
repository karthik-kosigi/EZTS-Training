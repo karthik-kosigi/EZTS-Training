{
 "cells": [
  {
   "cell_type": "code",
   "execution_count": 6,
   "metadata": {},
   "outputs": [
    {
     "name": "stdout",
     "output_type": "stream",
     "text": [
      "minimum cost:  19\n"
     ]
    }
   ],
   "source": [
    "\n",
    "import sys\n",
    "def cost(curr,visited,g,dp):\n",
    "    n=len(g)\n",
    "\n",
    "    if len(visited)==n:\n",
    "        return g[curr][0]\n",
    "    \n",
    "    visit=tuple(visited)\n",
    "    if (curr,visit) in dp:\n",
    "        return dp[(curr,visit)]\n",
    "    min_cost = sys.maxsize\n",
    "    for i in range(n):\n",
    "        if i not in visited:\n",
    "            new_visit = visited+[i]\n",
    "            new_cost= g[curr][i] + cost(i,new_visit,g,dp) \n",
    "            min_cost=min(min_cost,new_cost)\n",
    "    dp[(curr,visit)]=min_cost\n",
    "\n",
    "    return min_cost\n",
    "\n",
    "\n",
    "g=[\n",
    "    [0,4,7,5,5],\n",
    "    [4,0,2,3,8],\n",
    "    [7,2,0,3,4],\n",
    "    [5,3,3,0,6],\n",
    "    [5,8,4,6,0]\n",
    "]\n",
    "\n",
    "n=len(g)\n",
    "dp={}\n",
    "print(\"minimum cost: \",cost(0,[0],g,dp))\n"
   ]
  },
  {
   "cell_type": "code",
   "execution_count": 15,
   "metadata": {},
   "outputs": [
    {
     "name": "stdout",
     "output_type": "stream",
     "text": [
      "['ABABAB', 'BABABC', 'ABABCA', 'BABCAN', 'ABCANF', 'BCANFK', 'CANFKA', 'ANFKAB', 'NFKABA', 'FKABAB', 'KABABC', 'ABABCN', 'BABCNK', 'ABCNKA', 'BCNKAB', 'CNKABA', 'NKABAB', 'KABABC', 'ABABCA', 'BABCAC', 'ABCACN', 'BCACND', 'CACNDA', 'ACNDA', 'CNDA', 'NDA', 'DA', 'A']\n",
      "2\n"
     ]
    }
   ],
   "source": [
    "s=\"ABABABCANFKABABCNKABABCACNDA\"\n",
    "p= \"ABABCA\"\n",
    "\n",
    "l=[]\n",
    "for i in range(len(s)):\n",
    "    l.append(s[i:len(p)+i])\n",
    "print(l)\n",
    "\n",
    "if p in l:\n",
    "    print(l.index(p))"
   ]
  },
  {
   "cell_type": "code",
   "execution_count": 12,
   "metadata": {},
   "outputs": [
    {
     "name": "stdout",
     "output_type": "stream",
     "text": [
      "[0, 9, 12]\n"
     ]
    }
   ],
   "source": [
    "s=\"AABAACAADAABAABAA\"\n",
    "p= \"AABAA\"\n",
    "vis=[]\n",
    "for i in range(len(s)):\n",
    "    if s[i:len(p)+i]==p and i not in vis:\n",
    "        vis.append(i)\n",
    "print(vis)"
   ]
  },
  {
   "cell_type": "code",
   "execution_count": null,
   "metadata": {},
   "outputs": [],
   "source": []
  }
 ],
 "metadata": {
  "kernelspec": {
   "display_name": "Python 3",
   "language": "python",
   "name": "python3"
  },
  "language_info": {
   "codemirror_mode": {
    "name": "ipython",
    "version": 3
   },
   "file_extension": ".py",
   "mimetype": "text/x-python",
   "name": "python",
   "nbconvert_exporter": "python",
   "pygments_lexer": "ipython3",
   "version": "3.12.0"
  }
 },
 "nbformat": 4,
 "nbformat_minor": 2
}
