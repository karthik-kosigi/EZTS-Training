{
 "cells": [
  {
   "cell_type": "markdown",
   "metadata": {},
   "source": [
    "##### finding the pattern using KMP O(n+m)"
   ]
  },
  {
   "cell_type": "code",
   "execution_count": null,
   "metadata": {},
   "outputs": [],
   "source": [
    "def KMPAlgo(p,s):\n",
    "    m=len(p)\n",
    "    n=len(s)\n",
    "    lps=[]\n",
    "    LPS(p,m,lps)\n",
    "    print(lps)\n",
    "\n",
    "    i=0\n",
    "    j=0\n",
    "    while (n-j)>=(m-j):\n",
    "        if p[j]==s[i]:\n",
    "            i+=1\n",
    "            j+=1\n",
    "        if j==m:\n",
    "            print(\"patterb found\", i-j)\n",
    "            j=lps[j-1]\n",
    "        elif i<n and p[j]!=s[i]:\n",
    "            if j!=0:\n",
    "                j = lps[j-1]\n",
    "                \n",
    "\n",
    "\n",
    "if __name__==\"__main__\":\n",
    "    s=\"ABABACDEABABABCABCABCABEAA\"\n",
    "    p=\"ABCAB\"\n",
    "    KMPAlgo(p,s)"
   ]
  }
 ],
 "metadata": {
  "language_info": {
   "name": "python"
  }
 },
 "nbformat": 4,
 "nbformat_minor": 2
}
