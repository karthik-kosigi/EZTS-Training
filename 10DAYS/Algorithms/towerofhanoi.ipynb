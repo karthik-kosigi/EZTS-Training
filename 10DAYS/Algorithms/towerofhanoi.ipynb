{
 "cells": [
  {
   "cell_type": "code",
   "execution_count": 16,
   "metadata": {},
   "outputs": [
    {
     "name": "stdout",
     "output_type": "stream",
     "text": [
      "move 1 from A to C\n",
      "move 2 from A to B\n",
      "move 1 from C to B\n",
      "move 3 from A to C\n",
      "move 1 from B to A\n",
      "move 2 from B to C\n",
      "move 1 from A to C\n",
      "[7]\n"
     ]
    }
   ],
   "source": [
    "ctr=[0]\n",
    "def tower(n,fr,to,aux,ctr):\n",
    "    if n==0:\n",
    "        return\n",
    "    tower(n-1,fr,aux,to,ctr)\n",
    "    print(f\"move {n} from {fr} to {to}\")\n",
    "    ctr[0]+=1\n",
    "    tower(n-1,aux,to,fr,ctr)\n",
    "n=3\n",
    "tower(n,'A','C','B',ctr)\n",
    "print(ctr)"
   ]
  },
  {
   "cell_type": "code",
   "execution_count": 17,
   "metadata": {},
   "outputs": [
    {
     "name": "stdout",
     "output_type": "stream",
     "text": [
      "9\n"
     ]
    }
   ],
   "source": [
    "l=[1,2,3,-2,5]\n",
    "mx=-float('inf')\n",
    "c=0\n",
    "for i in range(len(l)):\n",
    "    c+=l[i]\n",
    "    mx=max(c,mx)\n",
    "    if c<0:\n",
    "        c=0\n",
    "print(mx)"
   ]
  }
 ],
 "metadata": {
  "kernelspec": {
   "display_name": "Python 3",
   "language": "python",
   "name": "python3"
  },
  "language_info": {
   "codemirror_mode": {
    "name": "ipython",
    "version": 3
   },
   "file_extension": ".py",
   "mimetype": "text/x-python",
   "name": "python",
   "nbconvert_exporter": "python",
   "pygments_lexer": "ipython3",
   "version": "3.12.0"
  }
 },
 "nbformat": 4,
 "nbformat_minor": 2
}
