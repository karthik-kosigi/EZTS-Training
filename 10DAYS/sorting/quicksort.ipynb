{
 "cells": [
  {
   "cell_type": "markdown",
   "metadata": {},
   "source": [
    "# Quick sort  \n",
    "## best case O(n)\n",
    "## worst case O(nlogn)\n",
    "\n"
   ]
  },
  {
   "cell_type": "code",
   "execution_count": 4,
   "metadata": {},
   "outputs": [
    {
     "name": "stdout",
     "output_type": "stream",
     "text": [
      "[1, 2, 3, 4, 5, 6, 7, 8, 9, 10, 11]\n"
     ]
    }
   ],
   "source": [
    "\n",
    "\n",
    "def divide(a,low,high):\n",
    "    p=a[high]\n",
    "    pi=high\n",
    "    j=low-1\n",
    "    for i in range(low,high):\n",
    "        if a[i]<p:\n",
    "            j+=1\n",
    "            a[i],a[j]=a[j],a[i]\n",
    "    j+=1\n",
    "    a[j],a[pi]=a[pi],a[j]\n",
    "    pi=j\n",
    "    return pi\n",
    "\n",
    "def quickSort(l,low,high):\n",
    "    if low<high:\n",
    "        pi=divide(l,low,high)\n",
    "        quickSort(l,low,pi-1)\n",
    "        quickSort(l,pi+1,high)\n",
    "    \n",
    "\n",
    "if __name__==\"__main__\":\n",
    "    a=[4,2,11,1,5,3,9,8,6,7,10]\n",
    "    n=len(a)\n",
    "    quickSort(a,0,n-1)\n",
    "    print(a)\n",
    "\n"
   ]
  },
  {
   "cell_type": "code",
   "execution_count": null,
   "metadata": {},
   "outputs": [],
   "source": [
    "def dividet(a,low,high):\n",
    "    p=a[high]\n",
    "    pi=high\n",
    "    j=low-1\n",
    "    for i in range(low,high):\n",
    "        if a[i]<p:\n",
    "            j+=1\n",
    "            a[i],a[j]=a[j],a[i]\n",
    "    j+=1\n",
    "    a[j],a[pi]=a[pi],a[j]\n",
    "    pi=j\n",
    "    return pi\n",
    "\n",
    "            \n"
   ]
  }
 ],
 "metadata": {
  "kernelspec": {
   "display_name": "Python 3",
   "language": "python",
   "name": "python3"
  },
  "language_info": {
   "codemirror_mode": {
    "name": "ipython",
    "version": 3
   },
   "file_extension": ".py",
   "mimetype": "text/x-python",
   "name": "python",
   "nbconvert_exporter": "python",
   "pygments_lexer": "ipython3",
   "version": "3.12.0"
  }
 },
 "nbformat": 4,
 "nbformat_minor": 2
}
