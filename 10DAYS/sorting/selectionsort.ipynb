{
 "cells": [
  {
   "cell_type": "markdown",
   "metadata": {},
   "source": [
    "Selection sort  O(n^2)"
   ]
  },
  {
   "cell_type": "code",
   "execution_count": 16,
   "metadata": {},
   "outputs": [
    {
     "name": "stdout",
     "output_type": "stream",
     "text": [
      "[1, 2, 3, 4, 5, 6, 7, 8, 9]\n",
      "[9, 8, 7, 6, 5, 4, 3, 2, 1]\n"
     ]
    }
   ],
   "source": [
    "a=[1,4,2,5,3,9,8,6,7]\n",
    "n=len(a)\n",
    "for i in range(n-1):\n",
    "    min_index=i\n",
    "    for j in range(i+1,n):\n",
    "        if a[min_index]>a[j]:\n",
    "            min_index=j\n",
    "    a[i],a[min_index]=a[min_index],a[i]\n",
    "\n",
    "print(a)\n",
    "re =reversed(a)\n",
    "res=[*re]\n",
    "print(res)"
   ]
  }
 ],
 "metadata": {
  "kernelspec": {
   "display_name": "Python 3",
   "language": "python",
   "name": "python3"
  },
  "language_info": {
   "codemirror_mode": {
    "name": "ipython",
    "version": 3
   },
   "file_extension": ".py",
   "mimetype": "text/x-python",
   "name": "python",
   "nbconvert_exporter": "python",
   "pygments_lexer": "ipython3",
   "version": "3.12.0"
  }
 },
 "nbformat": 4,
 "nbformat_minor": 2
}
