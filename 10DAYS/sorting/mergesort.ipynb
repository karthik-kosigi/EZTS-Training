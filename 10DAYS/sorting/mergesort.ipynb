{
 "cells": [
  {
   "cell_type": "markdown",
   "metadata": {},
   "source": [
    "# merge sort\n",
    "## worstcase O(logn)"
   ]
  },
  {
   "cell_type": "code",
   "execution_count": 14,
   "metadata": {},
   "outputs": [
    {
     "name": "stdout",
     "output_type": "stream",
     "text": [
      "[1, 2, 3, 4, 5, 6, 7, 8, 9, 10, 11]\n"
     ]
    }
   ],
   "source": [
    "def mergesort(a,l,r):\n",
    "    if l>=r:\n",
    "        return\n",
    "    mid=(l+r)//2\n",
    "    mergesort(a,l,mid)\n",
    "    mergesort(a,mid+1,r)\n",
    "    merge(a,l,mid,r)\n",
    "\n",
    "def merge(a,l,mid,r):\n",
    "    left = a[l:mid+1]\n",
    "    right = a[mid+1:r+1]\n",
    "    i=0\n",
    "    j=0\n",
    "    t=l    \n",
    "    while(i<len(left) and j<len(right)):\n",
    "        if left[i]<=right[j]:\n",
    "            a[t]=left[i]\n",
    "            i+=1\n",
    "        else:\n",
    "            a[t]=right[j]\n",
    "            j+=1\n",
    "        t+=1\n",
    "\n",
    "\n",
    "    while i<len(left):\n",
    "        a[t]=left[i]\n",
    "        t+=1\n",
    "        i+=1\n",
    "    while j<len(right):\n",
    "        a[t]=right[j]\n",
    "        t+=1\n",
    "        j+=1\n",
    "    \n",
    "if __name__==\"__main__\":\n",
    "    a=[4,2,11,1,5,3,9,8,6,7,10]\n",
    "    n=len(a)\n",
    "    mergesort(a,0,n-1)\n",
    "    print(a)\n"
   ]
  },
  {
   "cell_type": "code",
   "execution_count": 12,
   "metadata": {},
   "outputs": [
    {
     "name": "stdout",
     "output_type": "stream",
     "text": [
      "[1, 2, 3, 4, 5, 6, 7, 8, 9, 10, 11]\n"
     ]
    }
   ],
   "source": [
    "def mergesort(a, l, r):\n",
    "    if l >= r:\n",
    "        return\n",
    "    mid = (l + r) // 2\n",
    "    mergesort(a, l, mid)\n",
    "    mergesort(a, mid + 1, r)\n",
    "    merge(a, l, mid, r)\n",
    "\n",
    "def merge(a, l, mid, r):\n",
    "    left = a[l:mid + 1]\n",
    "    right = a[mid + 1:r + 1]\n",
    "    i = 0\n",
    "    j = 0\n",
    "    t = l\n",
    "\n",
    "    while i < len(left) and j < len(right):\n",
    "        if left[i] <= right[j]:\n",
    "            a[t] = left[i]\n",
    "            i += 1\n",
    "        else:\n",
    "            a[t] = right[j]\n",
    "            j += 1\n",
    "        t += 1\n",
    "\n",
    "    while i < len(left):\n",
    "        a[t] = left[i]\n",
    "        t += 1\n",
    "        i += 1\n",
    "\n",
    "    while j < len(right):\n",
    "        a[t] = right[j]\n",
    "        t += 1\n",
    "        j += 1\n",
    "\n",
    "if __name__ == \"__main__\":\n",
    "    a = [4, 2, 11, 1, 5, 3, 9, 8, 6, 7, 10]\n",
    "    n = len(a)\n",
    "    mergesort(a, 0, n - 1)\n",
    "    print(a)\n"
   ]
  }
 ],
 "metadata": {
  "kernelspec": {
   "display_name": "Python 3",
   "language": "python",
   "name": "python3"
  },
  "language_info": {
   "codemirror_mode": {
    "name": "ipython",
    "version": 3
   },
   "file_extension": ".py",
   "mimetype": "text/x-python",
   "name": "python",
   "nbconvert_exporter": "python",
   "pygments_lexer": "ipython3",
   "version": "3.12.0"
  }
 },
 "nbformat": 4,
 "nbformat_minor": 2
}
