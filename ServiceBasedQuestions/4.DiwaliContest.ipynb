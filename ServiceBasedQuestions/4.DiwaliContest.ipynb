{
 "cells": [
  {
   "cell_type": "markdown",
   "metadata": {},
   "source": [
    "4) Diwali Contest  \n",
    "Max is planning to take part in a Diwali contest at a Diwali Party that will begin at 8 PM and \n",
    "will run until midnight (12 AM) i.e., for 4 hours. He also needs to travel to the party venue \n",
    "within this time which takes him P minutes. The contest comprises of N problems that are \n",
    "arranged in order of difficulty, with problem 1 being the simplest and problem N being the \n",
    "most difficult. Max is aware that he will require 5*i minutes to solve the ith problem.  \n",
    "Your task is help Max find and return an integer value, representing the number of \n",
    "problems Max can solve and reach the party venue within the given time frame of 4 hours.  \n",
    "Note: Max will leave his home at exactly 8 PM to reach the party venue.  \n",
    "Input Format:  \n",
    "input1: An integer value N, representing the total number of problems.  \n",
    "input2: An integer value P, Representing the time to travel in minutes from his home to the \n",
    "party venue.  \n",
    "  \n",
    "Example:  \n",
    "Input:  \n",
    "6 180  \n",
    "Output:  \n",
    "4  \n",
    "Explanation:  \n",
    "The amount of time left to solve the problems is 4*60-180=60 mins.  \n",
    "1st Problem - 1 mins, Time left = 60-5=55 mins  \n",
    "2nd Problem - 10 mins, Time left = 55-10=45 mins  \n",
    "3rd Problem  - 15 mins, Time left = 45-15=30 mins  \n",
    "4th Problem  - 20 mins, Time left = 30-20=10 mins  \n",
    "5th Problem  - 25 mins  \n",
    "So he can solve only 4 problems as he is not left with 25 mins to complete 5th problem."
   ]
  },
  {
   "cell_type": "code",
   "execution_count": 1,
   "metadata": {},
   "outputs": [
    {
     "name": "stdout",
     "output_type": "stream",
     "text": [
      "4\n"
     ]
    }
   ],
   "source": [
    "no = int(input(\"Enter no of problems: \"))\n",
    "total_time= int(input(\"Time: \"))\n",
    "time = 240 - total_time\n",
    "\n",
    "i=0\n",
    "summ=0\n",
    "while True:\n",
    "    if i*5>=time or i==no:\n",
    "        print(i)\n",
    "        break\n",
    "    else:\n",
    "        summ+=(i*5)\n",
    "        time = time - summ\n",
    "        i+=1"
   ]
  },
  {
   "cell_type": "markdown",
   "metadata": {
    "vscode": {
     "languageId": "html"
    }
   },
   "source": [
    "\n",
    "for i in range(n):\n",
    "\n",
    "    if s[r] in char_set:\n",
    "\n",
    "        while l<r and s[r] in char_set:\n",
    "\n",
    "            char_set.remove(s[l])\n",
    "            \n",
    "            l+=1\n",
    "\n",
    "\n",
    "        time complexity  = O(m*n)"
   ]
  }
 ],
 "metadata": {
  "kernelspec": {
   "display_name": "Python 3",
   "language": "python",
   "name": "python3"
  },
  "language_info": {
   "codemirror_mode": {
    "name": "ipython",
    "version": 3
   },
   "file_extension": ".py",
   "mimetype": "text/x-python",
   "name": "python",
   "nbconvert_exporter": "python",
   "pygments_lexer": "ipython3",
   "version": "3.12.0"
  }
 },
 "nbformat": 4,
 "nbformat_minor": 2
}
