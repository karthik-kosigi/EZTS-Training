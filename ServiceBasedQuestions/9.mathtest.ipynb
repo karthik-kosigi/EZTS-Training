{
 "cells": [
  {
   "cell_type": "code",
   "execution_count": 23,
   "metadata": {},
   "outputs": [
    {
     "name": "stdout",
     "output_type": "stream",
     "text": [
      "31\n"
     ]
    }
   ],
   "source": [
    "def isprime(m):\n",
    "    if m<=1:\n",
    "        return False\n",
    "    if m==2:\n",
    "        return True\n",
    "    if m%2==0:\n",
    "        return False\n",
    "    for i in range(3,int(m**0.5)+1):\n",
    "        if m%i==0:\n",
    "            return False\n",
    "    return True\n",
    "def return_next(n):\n",
    "    m=n\n",
    "    while True:\n",
    "        m=m+1\n",
    "        if isprime(m) and m>n:\n",
    "            return m\n",
    "print(return_next(29))\n"
   ]
  }
 ],
 "metadata": {
  "kernelspec": {
   "display_name": "Python 3",
   "language": "python",
   "name": "python3"
  },
  "language_info": {
   "codemirror_mode": {
    "name": "ipython",
    "version": 3
   },
   "file_extension": ".py",
   "mimetype": "text/x-python",
   "name": "python",
   "nbconvert_exporter": "python",
   "pygments_lexer": "ipython3",
   "version": "3.12.0"
  }
 },
 "nbformat": 4,
 "nbformat_minor": 2
}
