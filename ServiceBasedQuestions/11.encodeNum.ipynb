{
 "cells": [
  {
   "cell_type": "code",
   "execution_count": 2,
   "metadata": {},
   "outputs": [
    {
     "name": "stdout",
     "output_type": "stream",
     "text": [
      "4091601\n"
     ]
    }
   ],
   "source": [
    "num=2341\n",
    "enc_num=0\n",
    "pow=0\n",
    "while num>0:\n",
    "    rem=num%10\n",
    "    enc_num=(rem**2)*(10**pow)+enc_num\n",
    "    pow+=2\n",
    "    num=num//10\n",
    "print(enc_num)"
   ]
  }
 ],
 "metadata": {
  "kernelspec": {
   "display_name": "Python 3",
   "language": "python",
   "name": "python3"
  },
  "language_info": {
   "codemirror_mode": {
    "name": "ipython",
    "version": 3
   },
   "file_extension": ".py",
   "mimetype": "text/x-python",
   "name": "python",
   "nbconvert_exporter": "python",
   "pygments_lexer": "ipython3",
   "version": "3.12.0"
  }
 },
 "nbformat": 4,
 "nbformat_minor": 2
}
